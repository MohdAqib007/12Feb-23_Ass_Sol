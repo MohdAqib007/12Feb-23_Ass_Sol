{
 "cells": [
  {
   "cell_type": "code",
   "execution_count": null,
   "id": "1bc8a36a-ed28-437a-b32e-8ec084b3bdab",
   "metadata": {},
   "outputs": [],
   "source": [
    "#Q1. What is an Exception in python? Write the difference between Exceptions and syntax errors\n",
    "#Ans-\n",
    "\n",
    "'''In Python, an Exception is an error that occurs during the execution of a program. \n",
    "When an exception occurs, the program execution is halted, and Python generates an error message to indicate the type of exception and where it occurred in the code.\n",
    "Exceptions can occur due to a variety of reasons, such as trying to divide by zero, attempting to access an item that does not exist in a list, or passing invalid arguments to a function.\n",
    "\n",
    "The main difference between Exceptions and syntax errors is that syntax errors occur when there is a mistake in the code's syntax. This means that the code is not written in a way that Python can understand. \n",
    "Examples of syntax errors include missing a colon or parentheses or misspelling a keyword.\n",
    "\n",
    "On the other hand, exceptions occur when the code is syntactically correct but there is an error during execution. Exceptions can occur due to a variety of reasons such as invalid inputs, file not found, or attempting to access an item that does not exist in a list. \n",
    "Unlike syntax errors, exceptions can be handled and recovered from in the code using try-except blocks.'''"
   ]
  },
  {
   "cell_type": "code",
   "execution_count": 1,
   "id": "2500bb87-ef51-43b3-9ffd-d09252e1b619",
   "metadata": {},
   "outputs": [
    {
     "ename": "ZeroDivisionError",
     "evalue": "division by zero",
     "output_type": "error",
     "traceback": [
      "\u001b[0;31m---------------------------------------------------------------------------\u001b[0m",
      "\u001b[0;31mZeroDivisionError\u001b[0m                         Traceback (most recent call last)",
      "Cell \u001b[0;32mIn[1], line 14\u001b[0m\n\u001b[1;32m     11\u001b[0m \u001b[38;5;28;01mdef\u001b[39;00m \u001b[38;5;21mdivide_by_zero\u001b[39m():\n\u001b[1;32m     12\u001b[0m     \u001b[38;5;28;01mreturn\u001b[39;00m \u001b[38;5;241m10\u001b[39m\u001b[38;5;241m/\u001b[39m\u001b[38;5;241m0\u001b[39m\n\u001b[0;32m---> 14\u001b[0m result \u001b[38;5;241m=\u001b[39m \u001b[43mdivide_by_zero\u001b[49m\u001b[43m(\u001b[49m\u001b[43m)\u001b[49m\n\u001b[1;32m     15\u001b[0m \u001b[38;5;28mprint\u001b[39m(result)\n\u001b[1;32m     18\u001b[0m \u001b[38;5;124;03m'''In this example, the divide_by_zero function attempts to divide 10 by 0, which will raise a ZeroDivisionError exception. \u001b[39;00m\n\u001b[1;32m     19\u001b[0m \u001b[38;5;124;03mSince there is no try-except block to handle this exception, the program will terminate with the following error message:'''\u001b[39;00m\n",
      "Cell \u001b[0;32mIn[1], line 12\u001b[0m, in \u001b[0;36mdivide_by_zero\u001b[0;34m()\u001b[0m\n\u001b[1;32m     11\u001b[0m \u001b[38;5;28;01mdef\u001b[39;00m \u001b[38;5;21mdivide_by_zero\u001b[39m():\n\u001b[0;32m---> 12\u001b[0m     \u001b[38;5;28;01mreturn\u001b[39;00m \u001b[38;5;241;43m10\u001b[39;49m\u001b[38;5;241;43m/\u001b[39;49m\u001b[38;5;241;43m0\u001b[39;49m\n",
      "\u001b[0;31mZeroDivisionError\u001b[0m: division by zero"
     ]
    }
   ],
   "source": [
    "#Q2. What happens when an exception is not handled? Explain with an example.\n",
    "#Ans-\n",
    "\n",
    "'''When an exception is not handled, the program will terminate and generate an error message. \n",
    "The error message will provide information about the type of exception, the line number where the exception occurred, and the traceback of the function calls that led to the exception.\n",
    "\n",
    "Here's an example:'''\n",
    "\n",
    "# Example of unhandled exception\n",
    "\n",
    "def divide_by_zero():\n",
    "    return 10/0\n",
    "\n",
    "result = divide_by_zero()\n",
    "print(result)\n",
    "\n",
    "\n",
    "'''In this example, the divide_by_zero function attempts to divide 10 by 0, which will raise a ZeroDivisionError exception. \n",
    "Since there is no try-except block to handle this exception, the program will terminate with the following error message:'''\n",
    "\n"
   ]
  },
  {
   "cell_type": "code",
   "execution_count": null,
   "id": "57acd580-b3e7-4f87-b367-3ef516069237",
   "metadata": {},
   "outputs": [],
   "source": [
    "'''As we can see from the error message, the exception occurred on line 2 of the code where the division by zero operation was attempted. \n",
    "Without exception handling, the program will stop executing and the error message will be displayed to the user. \n",
    "It is important to handle exceptions in the code to prevent the program from terminating unexpectedly and to provide better error messages to the user.'''"
   ]
  },
  {
   "cell_type": "code",
   "execution_count": null,
   "id": "e20d19f7-0776-4112-8788-ed77b8121d1f",
   "metadata": {},
   "outputs": [],
   "source": []
  },
  {
   "cell_type": "code",
   "execution_count": 4,
   "id": "aa9e3c6e-4e4c-4d1a-855d-9302fe471e3b",
   "metadata": {},
   "outputs": [
    {
     "name": "stdin",
     "output_type": "stream",
     "text": [
      "Enter a number:  0\n"
     ]
    },
    {
     "name": "stdout",
     "output_type": "stream",
     "text": [
      "Cannot divide by zero.\n"
     ]
    },
    {
     "ename": "NameError",
     "evalue": "name 'file' is not defined",
     "output_type": "error",
     "traceback": [
      "\u001b[0;31m---------------------------------------------------------------------------\u001b[0m",
      "\u001b[0;31mFileNotFoundError\u001b[0m                         Traceback (most recent call last)",
      "Cell \u001b[0;32mIn[4], line 34\u001b[0m\n\u001b[1;32m     33\u001b[0m \u001b[38;5;28;01mtry\u001b[39;00m:\n\u001b[0;32m---> 34\u001b[0m     file \u001b[38;5;241m=\u001b[39m \u001b[38;5;28;43mopen\u001b[39;49m\u001b[43m(\u001b[49m\u001b[38;5;124;43m\"\u001b[39;49m\u001b[38;5;124;43mexample.txt\u001b[39;49m\u001b[38;5;124;43m\"\u001b[39;49m\u001b[43m,\u001b[49m\u001b[43m \u001b[49m\u001b[38;5;124;43m\"\u001b[39;49m\u001b[38;5;124;43mr\u001b[39;49m\u001b[38;5;124;43m\"\u001b[39;49m\u001b[43m)\u001b[49m\n\u001b[1;32m     35\u001b[0m     \u001b[38;5;66;03m# Perform some operation on the file\u001b[39;00m\n\u001b[1;32m     36\u001b[0m \u001b[38;5;28;01mfinally\u001b[39;00m:\n",
      "File \u001b[0;32m/opt/conda/lib/python3.10/site-packages/IPython/core/interactiveshell.py:282\u001b[0m, in \u001b[0;36m_modified_open\u001b[0;34m(file, *args, **kwargs)\u001b[0m\n\u001b[1;32m    276\u001b[0m     \u001b[38;5;28;01mraise\u001b[39;00m \u001b[38;5;167;01mValueError\u001b[39;00m(\n\u001b[1;32m    277\u001b[0m         \u001b[38;5;124mf\u001b[39m\u001b[38;5;124m\"\u001b[39m\u001b[38;5;124mIPython won\u001b[39m\u001b[38;5;124m'\u001b[39m\u001b[38;5;124mt let you open fd=\u001b[39m\u001b[38;5;132;01m{\u001b[39;00mfile\u001b[38;5;132;01m}\u001b[39;00m\u001b[38;5;124m by default \u001b[39m\u001b[38;5;124m\"\u001b[39m\n\u001b[1;32m    278\u001b[0m         \u001b[38;5;124m\"\u001b[39m\u001b[38;5;124mas it is likely to crash IPython. If you know what you are doing, \u001b[39m\u001b[38;5;124m\"\u001b[39m\n\u001b[1;32m    279\u001b[0m         \u001b[38;5;124m\"\u001b[39m\u001b[38;5;124myou can use builtins\u001b[39m\u001b[38;5;124m'\u001b[39m\u001b[38;5;124m open.\u001b[39m\u001b[38;5;124m\"\u001b[39m\n\u001b[1;32m    280\u001b[0m     )\n\u001b[0;32m--> 282\u001b[0m \u001b[38;5;28;01mreturn\u001b[39;00m \u001b[43mio_open\u001b[49m\u001b[43m(\u001b[49m\u001b[43mfile\u001b[49m\u001b[43m,\u001b[49m\u001b[43m \u001b[49m\u001b[38;5;241;43m*\u001b[39;49m\u001b[43margs\u001b[49m\u001b[43m,\u001b[49m\u001b[43m \u001b[49m\u001b[38;5;241;43m*\u001b[39;49m\u001b[38;5;241;43m*\u001b[39;49m\u001b[43mkwargs\u001b[49m\u001b[43m)\u001b[49m\n",
      "\u001b[0;31mFileNotFoundError\u001b[0m: [Errno 2] No such file or directory: 'example.txt'",
      "\nDuring handling of the above exception, another exception occurred:\n",
      "\u001b[0;31mNameError\u001b[0m                                 Traceback (most recent call last)",
      "Cell \u001b[0;32mIn[4], line 37\u001b[0m\n\u001b[1;32m     34\u001b[0m     file \u001b[38;5;241m=\u001b[39m \u001b[38;5;28mopen\u001b[39m(\u001b[38;5;124m\"\u001b[39m\u001b[38;5;124mexample.txt\u001b[39m\u001b[38;5;124m\"\u001b[39m, \u001b[38;5;124m\"\u001b[39m\u001b[38;5;124mr\u001b[39m\u001b[38;5;124m\"\u001b[39m)\n\u001b[1;32m     35\u001b[0m     \u001b[38;5;66;03m# Perform some operation on the file\u001b[39;00m\n\u001b[1;32m     36\u001b[0m \u001b[38;5;28;01mfinally\u001b[39;00m:\n\u001b[0;32m---> 37\u001b[0m     \u001b[43mfile\u001b[49m\u001b[38;5;241m.\u001b[39mclose()\n\u001b[1;32m     40\u001b[0m \u001b[38;5;124;03m'''3. raise:\u001b[39;00m\n\u001b[1;32m     41\u001b[0m \u001b[38;5;124;03mraise is a Python keyword used to raise an exception explicitly. \u001b[39;00m\n\u001b[1;32m     42\u001b[0m \u001b[38;5;124;03mWe can use raise to raise a built-in exception such as ValueError or create our own custom exception. \u001b[39;00m\n\u001b[1;32m     43\u001b[0m \u001b[38;5;124;03mHere's an example:'''\u001b[39;00m\n\u001b[1;32m     45\u001b[0m \u001b[38;5;66;03m# Example of raise\u001b[39;00m\n",
      "\u001b[0;31mNameError\u001b[0m: name 'file' is not defined"
     ]
    }
   ],
   "source": [
    "#Q4. Explain with an example:\n",
    "#1.try and else\n",
    "#2.finally \n",
    "#3.raise\n",
    "\n",
    "#Ans-\n",
    "\n",
    "'''1. try and else:\n",
    "try-except-else is a Python construct used to handle exceptions. The try block contains the code that may raise an exception, and the except block contains code to handle the exception. \n",
    "If no exception occurs in the try block, the else block is executed. \n",
    "Here's an example:'''\n",
    "\n",
    "# Example of try-except-else\n",
    "\n",
    "try:\n",
    "    num = int(input(\"Enter a number: \"))\n",
    "    result = 10 / num\n",
    "except ValueError:\n",
    "    print(\"Invalid input. Please enter a number.\")\n",
    "except ZeroDivisionError:\n",
    "    print(\"Cannot divide by zero.\")\n",
    "else:\n",
    "    print(\"Result is:\", result)\n",
    "\n",
    "    \n",
    "'''2. finally:\n",
    "The finally block is used to execute code after the try and except blocks, regardless of whether an exception was raised or not. \n",
    "This block is useful for releasing resources such as file handles or network connections. \n",
    "Here's an example:'''\n",
    "\n",
    "# Example of try-finally\n",
    "\n",
    "try:\n",
    "    file = open(\"example.txt\", \"r\")\n",
    "    # Perform some operation on the file\n",
    "finally:\n",
    "    file.close()\n",
    "\n",
    "    \n",
    "'''3. raise:\n",
    "raise is a Python keyword used to raise an exception explicitly. \n",
    "We can use raise to raise a built-in exception such as ValueError or create our own custom exception. \n",
    "Here's an example:'''\n",
    "\n",
    "# Example of raise\n",
    "\n",
    "def square(num):\n",
    "    if num < 0:\n",
    "        raise ValueError(\"Number cannot be negative.\")\n",
    "    return num ** 2\n",
    "\n",
    "print(square(4))\n",
    "print(square(-4))\n"
   ]
  },
  {
   "cell_type": "code",
   "execution_count": 6,
   "id": "519aa74d-fb81-40c2-8cd5-8df518a4c299",
   "metadata": {},
   "outputs": [
    {
     "name": "stdin",
     "output_type": "stream",
     "text": [
      "Enter your age:  0\n"
     ]
    },
    {
     "name": "stdout",
     "output_type": "stream",
     "text": [
      "Age must be 18 or above.\n"
     ]
    }
   ],
   "source": [
    "#Q5. What are Custom Exceptions in python? Why do we need Custom Exceptions? Explain with an example.\n",
    "#Ans-\n",
    "\n",
    "'''Custom exceptions in Python are user-defined exceptions that inherit from the base Exception class. \n",
    "They are used when we want to define our own exceptions that are specific to our program and provide more detailed information about the error that occurred.\n",
    "\n",
    "We need custom exceptions because the built-in exceptions in Python may not always provide enough information to identify and handle specific errors that occur in our programs. \n",
    "Custom exceptions allow us to define our own exception classes with specific error messages and attributes to provide more information about the error that occurred. \n",
    "This helps in debugging and fixing errors more easily and efficiently.\n",
    "\n",
    "Here's an example of how to create and use a custom exception in Python:'''\n",
    "\n",
    "# Example of custom exception\n",
    "\n",
    "class InvalidAgeError(Exception):\n",
    "    def __init__(self, message):\n",
    "        self.message = message\n",
    "\n",
    "def validate_age(age):\n",
    "    if age < 18:\n",
    "        raise InvalidAgeError(\"Age must be 18 or above.\")\n",
    "    else:\n",
    "        print(\"Age is valid.\")\n",
    "\n",
    "try:\n",
    "    age = int(input(\"Enter your age: \"))\n",
    "    validate_age(age)\n",
    "except InvalidAgeError as e:\n",
    "    print(e.message)\n",
    "\n",
    "    \n",
    "'''In this example, we have created a custom exception InvalidAgeError that inherits from the Exception class. \n",
    "The __init__ method is used to set the error message.\n",
    "\n",
    "The validate_age function checks if the age is less than 18, and if so, raises the InvalidAgeError exception with a custom error message.\n",
    "\n",
    "In the try block, the user is asked to enter their age. The validate_age function is called to check if the age is valid. \n",
    "If the age is invalid, the except block is executed, and the error message associated with the InvalidAgeError exception is displayed to the user.\n",
    "\n",
    "By defining our own custom exception, we can provide more specific and informative error messages to the user, which can help in identifying and fixing errors in our program.'''"
   ]
  },
  {
   "cell_type": "code",
   "execution_count": 7,
   "id": "efb13918-3b6c-4d26-abd0-ae697b44fbc0",
   "metadata": {},
   "outputs": [
    {
     "name": "stdout",
     "output_type": "stream",
     "text": [
      "25\n",
      "Number cannot be negative.\n",
      "None\n"
     ]
    }
   ],
   "source": [
    "#Q6. Create a custom exception class. Use this class to handle an exception.\n",
    "#Ans-\n",
    "\n",
    "'''Here's an example of creating a custom exception class and using it to handle an exception:'''\n",
    "\n",
    "# Example of custom exception class\n",
    "\n",
    "class InvalidInputError(Exception):\n",
    "    def __init__(self, message):\n",
    "        self.message = message\n",
    "\n",
    "def calculate_square(num):\n",
    "    try:\n",
    "        if num < 0:\n",
    "            raise InvalidInputError(\"Number cannot be negative.\")\n",
    "        else:\n",
    "            return num ** 2\n",
    "    except InvalidInputError as e:\n",
    "        print(e.message)\n",
    "\n",
    "# Testing the custom exception\n",
    "print(calculate_square(5)) # Output: 25\n",
    "print(calculate_square(-5)) # Output: Number cannot be negative.\n"
   ]
  },
  {
   "cell_type": "code",
   "execution_count": null,
   "id": "0a5b5896-d407-4f98-8a08-eb205677c9ca",
   "metadata": {},
   "outputs": [],
   "source": [
    "'''In this example, we define a custom exception class called InvalidInputError that inherits from the base Exception class. The __init__ method is used to initialize the error message for the exception.\n",
    "\n",
    "We then define a function calculate_square that takes a number as input and calculates its square. \n",
    "If the input number is less than 0, it raises an InvalidInputError exception with the error message \"Number cannot be negative.\" \n",
    "Otherwise, it calculates the square and returns the result.\n",
    "\n",
    "In the try-except block, we catch the InvalidInputError exception and print its associated error message using the print function.\n",
    "\n",
    "When we call the calculate_square function with a positive number, it returns the square of the number. \n",
    "However, when we call it with a negative number, it raises the InvalidInputError exception, which is caught in the except block and its error message \"Number cannot be negative.\" is printed to the console.'''"
   ]
  },
  {
   "cell_type": "code",
   "execution_count": null,
   "id": "09155ec9-9c72-4095-949c-870ba6d6a3cf",
   "metadata": {},
   "outputs": [],
   "source": []
  }
 ],
 "metadata": {
  "kernelspec": {
   "display_name": "Python 3 (ipykernel)",
   "language": "python",
   "name": "python3"
  },
  "language_info": {
   "codemirror_mode": {
    "name": "ipython",
    "version": 3
   },
   "file_extension": ".py",
   "mimetype": "text/x-python",
   "name": "python",
   "nbconvert_exporter": "python",
   "pygments_lexer": "ipython3",
   "version": "3.10.8"
  }
 },
 "nbformat": 4,
 "nbformat_minor": 5
}
